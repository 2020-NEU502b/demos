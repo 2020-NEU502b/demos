{
 "cells": [
  {
   "cell_type": "code",
   "execution_count": 1,
   "metadata": {},
   "outputs": [
    {
     "name": "stdout",
     "output_type": "stream",
     "text": [
      "1-MSIT.log\n"
     ]
    }
   ],
   "source": [
    "import pandas as pd\n",
    "import glob\n",
    "filename = glob.glob('*.log')[0]\n",
    "print(filename)"
   ]
  },
  {
   "cell_type": "code",
   "execution_count": 2,
   "metadata": {},
   "outputs": [],
   "source": [
    "data = pd.read_csv(filename, sep='\\t', names=['time', 'type', 'msg'])"
   ]
  },
  {
   "cell_type": "code",
   "execution_count": 3,
   "metadata": {},
   "outputs": [
    {
     "data": {
      "text/html": [
       "<div>\n",
       "<style scoped>\n",
       "    .dataframe tbody tr th:only-of-type {\n",
       "        vertical-align: middle;\n",
       "    }\n",
       "\n",
       "    .dataframe tbody tr th {\n",
       "        vertical-align: top;\n",
       "    }\n",
       "\n",
       "    .dataframe thead th {\n",
       "        text-align: right;\n",
       "    }\n",
       "</style>\n",
       "<table border=\"1\" class=\"dataframe\">\n",
       "  <thead>\n",
       "    <tr style=\"text-align: right;\">\n",
       "      <th></th>\n",
       "      <th>time</th>\n",
       "      <th>type</th>\n",
       "      <th>msg</th>\n",
       "    </tr>\n",
       "  </thead>\n",
       "  <tbody>\n",
       "    <tr>\n",
       "      <th>0</th>\n",
       "      <td>2.1299</td>\n",
       "      <td>WARNING</td>\n",
       "      <td>Monitor specification not found. Creating a te...</td>\n",
       "    </tr>\n",
       "    <tr>\n",
       "      <th>1</th>\n",
       "      <td>0.0755</td>\n",
       "      <td>EXP</td>\n",
       "      <td>Stimulus: +</td>\n",
       "    </tr>\n",
       "    <tr>\n",
       "      <th>2</th>\n",
       "      <td>3.1338</td>\n",
       "      <td>EXP</td>\n",
       "      <td>Stimulus: 100</td>\n",
       "    </tr>\n",
       "    <tr>\n",
       "      <th>3</th>\n",
       "      <td>3.6010</td>\n",
       "      <td>DATA</td>\n",
       "      <td>Keypress: 1</td>\n",
       "    </tr>\n",
       "    <tr>\n",
       "      <th>4</th>\n",
       "      <td>5.1510</td>\n",
       "      <td>EXP</td>\n",
       "      <td>Stimulus: 003</td>\n",
       "    </tr>\n",
       "    <tr>\n",
       "      <th>5</th>\n",
       "      <td>6.0537</td>\n",
       "      <td>DATA</td>\n",
       "      <td>Keypress: 0</td>\n",
       "    </tr>\n",
       "    <tr>\n",
       "      <th>6</th>\n",
       "      <td>7.1699</td>\n",
       "      <td>EXP</td>\n",
       "      <td>Stimulus: 211</td>\n",
       "    </tr>\n",
       "    <tr>\n",
       "      <th>7</th>\n",
       "      <td>7.8895</td>\n",
       "      <td>DATA</td>\n",
       "      <td>Keypress: 1</td>\n",
       "    </tr>\n",
       "    <tr>\n",
       "      <th>8</th>\n",
       "      <td>9.1870</td>\n",
       "      <td>EXP</td>\n",
       "      <td>Stimulus: 313</td>\n",
       "    </tr>\n",
       "    <tr>\n",
       "      <th>9</th>\n",
       "      <td>9.8705</td>\n",
       "      <td>DATA</td>\n",
       "      <td>Keypress: 3</td>\n",
       "    </tr>\n",
       "    <tr>\n",
       "      <th>10</th>\n",
       "      <td>11.2040</td>\n",
       "      <td>EXP</td>\n",
       "      <td>Stimulus: +</td>\n",
       "    </tr>\n",
       "    <tr>\n",
       "      <th>11</th>\n",
       "      <td>14.2041</td>\n",
       "      <td>EXP</td>\n",
       "      <td>Done</td>\n",
       "    </tr>\n",
       "  </tbody>\n",
       "</table>\n",
       "</div>"
      ],
      "text/plain": [
       "       time      type                                                msg\n",
       "0    2.1299  WARNING   Monitor specification not found. Creating a te...\n",
       "1    0.0755      EXP                                         Stimulus: +\n",
       "2    3.1338      EXP                                       Stimulus: 100\n",
       "3    3.6010     DATA                                         Keypress: 1\n",
       "4    5.1510      EXP                                       Stimulus: 003\n",
       "5    6.0537     DATA                                         Keypress: 0\n",
       "6    7.1699      EXP                                       Stimulus: 211\n",
       "7    7.8895     DATA                                         Keypress: 1\n",
       "8    9.1870      EXP                                       Stimulus: 313\n",
       "9    9.8705     DATA                                         Keypress: 3\n",
       "10  11.2040      EXP                                         Stimulus: +\n",
       "11  14.2041      EXP                                                Done"
      ]
     },
     "execution_count": 3,
     "metadata": {},
     "output_type": "execute_result"
    }
   ],
   "source": [
    "data"
   ]
  },
  {
   "cell_type": "code",
   "execution_count": 4,
   "metadata": {},
   "outputs": [
    {
     "data": {
      "text/html": [
       "<div>\n",
       "<style scoped>\n",
       "    .dataframe tbody tr th:only-of-type {\n",
       "        vertical-align: middle;\n",
       "    }\n",
       "\n",
       "    .dataframe tbody tr th {\n",
       "        vertical-align: top;\n",
       "    }\n",
       "\n",
       "    .dataframe thead th {\n",
       "        text-align: right;\n",
       "    }\n",
       "</style>\n",
       "<table border=\"1\" class=\"dataframe\">\n",
       "  <thead>\n",
       "    <tr style=\"text-align: right;\">\n",
       "      <th></th>\n",
       "      <th>response</th>\n",
       "      <th>rt</th>\n",
       "      <th>stim</th>\n",
       "    </tr>\n",
       "  </thead>\n",
       "  <tbody>\n",
       "    <tr>\n",
       "      <th>0</th>\n",
       "      <td>1</td>\n",
       "      <td>0.4672</td>\n",
       "      <td>100</td>\n",
       "    </tr>\n",
       "    <tr>\n",
       "      <th>1</th>\n",
       "      <td>0</td>\n",
       "      <td>0.9027</td>\n",
       "      <td>003</td>\n",
       "    </tr>\n",
       "    <tr>\n",
       "      <th>2</th>\n",
       "      <td>1</td>\n",
       "      <td>0.7196</td>\n",
       "      <td>211</td>\n",
       "    </tr>\n",
       "    <tr>\n",
       "      <th>3</th>\n",
       "      <td>3</td>\n",
       "      <td>0.6835</td>\n",
       "      <td>313</td>\n",
       "    </tr>\n",
       "  </tbody>\n",
       "</table>\n",
       "</div>"
      ],
      "text/plain": [
       "  response      rt stim\n",
       "0        1  0.4672  100\n",
       "1        0  0.9027  003\n",
       "2        1  0.7196  211\n",
       "3        3  0.6835  313"
      ]
     },
     "execution_count": 4,
     "metadata": {},
     "output_type": "execute_result"
    }
   ],
   "source": [
    "stim, stim_row, response, response_row = None, None, None, None\n",
    "\n",
    "presentations = []\n",
    "\n",
    "for _, row in data.iterrows():\n",
    "    if row.msg.startswith('Stimulus: '):\n",
    "        stim = row.msg[len('Stimulus: '):]\n",
    "        stim_row = row\n",
    "    if row.msg.startswith('Keypress: '):\n",
    "        response = row.msg[len('Keypress: '):]\n",
    "        response_row = row\n",
    "\n",
    "        if stim is not None:\n",
    "            rt = response_row.time - stim_row.time\n",
    "            presentations.append(dict(\n",
    "                stim=stim,\n",
    "                response=response,\n",
    "                rt=rt,\n",
    "            ))\n",
    "\n",
    "            # Clear out all data we've stored\n",
    "            stim, stim_row, response, response_row = None, None, None, None\n",
    "\n",
    "pd.DataFrame(presentations)"
   ]
  },
  {
   "cell_type": "markdown",
   "metadata": {},
   "source": [
    "## Other cases to handle...\n",
    "\n",
    "- Multiple key presses?\n",
    "    - actually the above code does handle that, only looks at first key press!\n",
    "- No key press\n",
    "    - Can implement by checking `if stim is None` when you encounter a new stimulus!"
   ]
  },
  {
   "cell_type": "code",
   "execution_count": null,
   "metadata": {},
   "outputs": [],
   "source": []
  }
 ],
 "metadata": {
  "kernelspec": {
   "display_name": "Python 3",
   "language": "python",
   "name": "python3"
  },
  "language_info": {
   "codemirror_mode": {
    "name": "ipython",
    "version": 3
   },
   "file_extension": ".py",
   "mimetype": "text/x-python",
   "name": "python",
   "nbconvert_exporter": "python",
   "pygments_lexer": "ipython3",
   "version": "3.6.4"
  }
 },
 "nbformat": 4,
 "nbformat_minor": 2
}
