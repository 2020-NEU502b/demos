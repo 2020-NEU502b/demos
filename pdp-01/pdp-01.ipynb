{
 "cells": [
  {
   "cell_type": "markdown",
   "metadata": {},
   "source": [
    "# PDP 01"
   ]
  },
  {
   "cell_type": "code",
   "execution_count": 1,
   "metadata": {},
   "outputs": [],
   "source": [
    "import numpy as np\n",
    "import matplotlib.pyplot as plt\n",
    "import seaborn as sns\n",
    "sns.set_style('white')\n",
    "sns.set_context('notebook', font_scale=1.5)\n",
    "%matplotlib inline"
   ]
  },
  {
   "cell_type": "markdown",
   "metadata": {},
   "source": [
    "In this notebook, we recreate the XOR problem for perceptrons and demonstrate that deeper neural networks can overcome the challenge. This notebook uses homebrew neural network code written by Chih-Ling Hsu [[1]](https://chih-ling-hsu.github.io/2017/08/30/NN-XOR)[[2]](https://chih-ling-hsu.github.io/2018/08/19/NN-XOR). The original demonstrations also provide a description of the backpropagation algorithm for all inclined to see it presented a second way."
   ]
  },
  {
   "cell_type": "markdown",
   "metadata": {},
   "source": [
    "## Section 1: The XOR Problem\n",
    "\n",
    "The XOR (exclusive or) problem is a classic problem in neural network theory. Specifically, the problem is how to construct a neural network to compute the exclusive or logical function. An XOR function should return a True value if the two inputs are not equal and a False value if they are equal. All possible inputs and predicted outputs are shown in the table below.\n",
    "\n",
    "| Input 1 | Input 2 | Ouput |\n",
    "|---------|---------|-------|\n",
    "| 0       | 0       | 0     |\n",
    "| 1       | 0       | 1     |\n",
    "| 0       | 1       | 1     |\n",
    "| 1       | 1       | 0     |\n",
    "\n",
    "It is easy to create these inputs in Python."
   ]
  },
  {
   "cell_type": "code",
   "execution_count": 2,
   "metadata": {},
   "outputs": [],
   "source": [
    "## Define input data.\n",
    "X = np.array([[0, 0], [0, 1], [1, 0], [1, 1]])\n",
    "\n",
    "## Define corresponding outputs.\n",
    "y = np.array([0, 1, 1, 0])"
   ]
  },
  {
   "cell_type": "markdown",
   "metadata": {},
   "source": [
    "### Neural Network w/ No Hidden Layer\n",
    "\n",
    "In this first step, let us demonstrate that a neural network with no hidden layer (i.e. a perceptron) cannot solve the XOR problem as argued by Minsky."
   ]
  },
  {
   "cell_type": "code",
   "execution_count": 3,
   "metadata": {},
   "outputs": [],
   "source": [
    "from pdp import NeuralNetwork\n",
    "\n",
    "## Define network architecture.\n",
    "# Input layer:  2 nodes\n",
    "# Output layer: 1 node\n",
    "net_arch = [2,1]\n",
    "\n",
    "## Initialize network.\n",
    "nn = NeuralNetwork(net_arch)"
   ]
  },
  {
   "cell_type": "markdown",
   "metadata": {},
   "source": [
    "Fit the network to the data."
   ]
  },
  {
   "cell_type": "code",
   "execution_count": 4,
   "metadata": {},
   "outputs": [
    {
     "name": "stdout",
     "output_type": "stream",
     "text": [
      "Input: [0 0] \t Truth: 0 \t Predicted: 0.521\n",
      "Input: [0 1] \t Truth: 1 \t Predicted: 0.544\n",
      "Input: [1 0] \t Truth: 1 \t Predicted: 0.550\n",
      "Input: [1 1] \t Truth: 0 \t Predicted: 0.573\n"
     ]
    }
   ],
   "source": [
    "## We use an overkill number of training epochs.\n",
    "nn.fit(X, y, epochs=100000)\n",
    "\n",
    "## Show predictions.\n",
    "y_pred = nn.predict(X)\n",
    "for a, b, c in zip(X, y, y_pred):\n",
    "    print(\"Input: %s \\t Truth: %s \\t Predicted: %0.3f\" %(a, b, c))"
   ]
  },
  {
   "cell_type": "markdown",
   "metadata": {},
   "source": [
    "To get a better sense of what the network is doing, we can plot the decision boundaries that the neural network has learned for the training data."
   ]
  },
  {
   "cell_type": "code",
   "execution_count": 5,
   "metadata": {},
   "outputs": [
    {
     "data": {
      "image/png": "[encoded data removed]",
      "text/plain": [
       "<Figure size 360x360 with 1 Axes>"
      ]
     },
     "metadata": {
      "needs_background": "light"
     },
     "output_type": "display_data"
    }
   ],
   "source": [
    "nn.plot_decision_regions(X, y);"
   ]
  },
  {
   "cell_type": "markdown",
   "metadata": {},
   "source": [
    "### Neural Network w/ One Hidden Layer\n",
    "\n",
    "Now let's show that a neural network with one hidden layer can in fact solve the XOR problem."
   ]
  },
  {
   "cell_type": "code",
   "execution_count": 6,
   "metadata": {},
   "outputs": [],
   "source": [
    "from pdp import NeuralNetwork\n",
    "\n",
    "## Define network architecture.\n",
    "# Input layer:  2 nodes\n",
    "# Hidden layer: 2 nodes\n",
    "# Output layer: 1 node\n",
    "net_arch = [2,2,1]\n",
    "\n",
    "## Initialize network.\n",
    "nn = NeuralNetwork(net_arch)"
   ]
  },
  {
   "cell_type": "markdown",
   "metadata": {},
   "source": [
    "Fit the network to the data."
   ]
  },
  {
   "cell_type": "code",
   "execution_count": 7,
   "metadata": {},
   "outputs": [
    {
     "name": "stdout",
     "output_type": "stream",
     "text": [
      "Input: [0 0] \t Truth: 0 \t Predicted: 0.029\n",
      "Input: [0 1] \t Truth: 1 \t Predicted: 0.975\n",
      "Input: [1 0] \t Truth: 1 \t Predicted: 0.975\n",
      "Input: [1 1] \t Truth: 0 \t Predicted: 0.026\n"
     ]
    }
   ],
   "source": [
    "## We use an overkill number of training epochs.\n",
    "nn.fit(X, y, epochs=100000)\n",
    "\n",
    "## Show predictions.\n",
    "y_pred = nn.predict(X)\n",
    "for a, b, c in zip(X, y, y_pred):\n",
    "    print(\"Input: %s \\t Truth: %s \\t Predicted: %0.3f\" %(a, b, c))"
   ]
  },
  {
   "cell_type": "markdown",
   "metadata": {},
   "source": [
    "Success! To get a better sense of what the network is doing, we can plot the decision boundaries that the neural network has learned for the training data. It's apparent the network has successfully learned the XOR problem."
   ]
  },
  {
   "cell_type": "code",
   "execution_count": 8,
   "metadata": {},
   "outputs": [
    {
     "data": {
      "image/png": "[encoded data removed]",
      "text/plain": [
       "<Figure size 360x360 with 1 Axes>"
      ]
     },
     "metadata": {
      "needs_background": "light"
     },
     "output_type": "display_data"
    }
   ],
   "source": [
    "nn.plot_decision_regions(X, y);"
   ]
  },
  {
   "cell_type": "markdown",
   "metadata": {},
   "source": [
    "## Section 2: Solving the XOR Problem with Scikit-Learn\n",
    "The `scikit-learn` package offers a robust [Multi-layer Perceptron](https://scikit-learn.org/stable/modules/neural_networks_supervised.html) function. Though it cannot handle large-scale datasets (e.g. it does not offer GPU support), it is a nice tool for moderately sized datasets."
   ]
  },
  {
   "cell_type": "code",
   "execution_count": null,
   "metadata": {},
   "outputs": [],
   "source": [
    "from sklearn.neural_network import MLPClassifier\n",
    "MLPClassifier?"
   ]
  },
  {
   "cell_type": "markdown",
   "metadata": {},
   "source": [
    "Without the need for custom code, we can similarly use the `MLPClassifier` to solve the XOR problem. First, let's initialize the network."
   ]
  },
  {
   "cell_type": "code",
   "execution_count": 10,
   "metadata": {},
   "outputs": [],
   "source": [
    "nn = MLPClassifier((2,), solver='lbfgs', activation='logistic', alpha=1e-3, \n",
    "                   learning_rate='constant', learning_rate_init=1e-3, \n",
    "                   momentum=0, random_state=47404)"
   ]
  },
  {
   "cell_type": "markdown",
   "metadata": {},
   "source": [
    "Now, let's train the network and show its predictions."
   ]
  },
  {
   "cell_type": "code",
   "execution_count": 11,
   "metadata": {},
   "outputs": [
    {
     "name": "stdout",
     "output_type": "stream",
     "text": [
      "Input: [0 0] \t Truth: 0 \t Predicted: 0.000\n",
      "Input: [0 1] \t Truth: 1 \t Predicted: 1.000\n",
      "Input: [1 0] \t Truth: 1 \t Predicted: 1.000\n",
      "Input: [1 1] \t Truth: 0 \t Predicted: 0.000\n"
     ]
    }
   ],
   "source": [
    "## Train the network on the data.\n",
    "fit = nn.fit(X, y)\n",
    "\n",
    "## Show predictions.\n",
    "y_pred = fit.predict(X)\n",
    "for a, b, c in zip(X, y, y_pred):\n",
    "    print(\"Input: %s \\t Truth: %s \\t Predicted: %0.3f\" %(a, b, c))"
   ]
  }
 ],
 "metadata": {
  "kernelspec": {
   "display_name": "Python 3",
   "language": "python",
   "name": "python3"
  },
  "language_info": {
   "codemirror_mode": {
    "name": "ipython",
    "version": 3
   },
   "file_extension": ".py",
   "mimetype": "text/x-python",
   "name": "python",
   "nbconvert_exporter": "python",
   "pygments_lexer": "ipython3",
   "version": "3.7.1"
  }
 },
 "nbformat": 4,
 "nbformat_minor": 2
}
