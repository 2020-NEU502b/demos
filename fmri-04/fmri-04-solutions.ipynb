{
 "cells": [
  {
   "cell_type": "markdown",
   "metadata": {},
   "source": [
    "# fMRI-04 Solutions"
   ]
  },
  {
   "cell_type": "code",
   "execution_count": 1,
   "metadata": {},
   "outputs": [],
   "source": [
    "import numpy as np\n",
    "import matplotlib.pyplot as plt\n",
    "import seaborn as sns\n",
    "sns.set_style('white')\n",
    "sns.set_context('notebook', font_scale=1.5)\n",
    "%matplotlib inline"
   ]
  },
  {
   "cell_type": "markdown",
   "metadata": {},
   "source": [
    "This notebook provides an overview of reading, manipulating, and saving fMRI data in python."
   ]
  },
  {
   "cell_type": "markdown",
   "metadata": {},
   "source": [
    "## Part 1: The Python fMRI Ecosystem\n",
    "\n",
    "Traditionally, fMRI researchers have relied on one of several software libraries for performing fMRI analysis. Packages such as SPM (Matlab, UCL), FSL (C/python, Oxford), AFNI (C, NIMH), and Freesurfer (C/Matlab, MGH) were and still are the major workhouses for fMRI analysis. As the field of fMRI analysis has advanced (and as the wider fMRI community has grown more computationally savvy), there's been an increasing push to centralize and standardize tools and incorporate fMRI analysis into larger analytic workflows.\n",
    "\n",
    "Unsurprisingly then, there's been a collosal effort to move fMRI analysis into the python ecosystem (and also R). The most prominent example of this is [NIPY](https://nipy.org/), a constellation of python packages for (f)MRI preprocessing and analysis including:\n",
    "\n",
    "- [nipype](https://nipype.readthedocs.io/en/latest/): a pythonic interface to existing neuroimaging software (and basis for fmriprep)\n",
    "- [nibabel](https://nipy.org/nibabel/): provides read/write access to some common neuroimaging file formats\n",
    "- [nitime](http://nipy.org/nitime/): time-series analysis of data from neuroscience experiments\n",
    "- [nilearn](https://nilearn.github.io/): statistical learning on neuroimaging data\n",
    "- [pymvpa](http://www.pymvpa.org/): machine learning for neuroimaging data\n",
    "- [mindboggle](https://mindboggle.info/): automated labeling and shape analysis of human brain image data \n",
    "- [mne](http://martinos.org/mne/stable/index.html): software for m/eeg data analysis\n",
    "- [pysurfer](https://pysurfer.github.io/): visualizing cortical surface representations of neuroimaging data\n",
    "\n",
    "In the tutorials below, we will be covering only the basic functions available across these libraries. We encourage you to check some of them out though. To note, there are number of other great up-and-coming MRI packages in python that we will not be covering but want to earmark:\n",
    "\n",
    "- [brainiak](https://brainiak.org/): advanced fMRI analyses in Python\n",
    "- [fitlins](https://github.com/poldracklab/fitlins): automated first-level analysis through fmriprep\n",
    "- [lyman](https://github.com/mwaskom/lyman): python port of FSL\n",
    "- [FIRdeconvolution](https://github.com/tknapen/FIRDeconvolution): deconvolution algorithms for timeseries data\n",
    "- [neurodesign](https://github.com/neuropower/neurodesign): tools for fMRI experimental design and power analysis"
   ]
  },
  {
   "cell_type": "markdown",
   "metadata": {},
   "source": [
    "## Part 2: Reference Frames\n",
    "\n",
    "As if fMRI analysis was not convoluted enough already, we first need to have a conversation about reference spaces before moving onto analysis. Whereas before we talked about temporal reference frames (e.g. scanner time vs. human time), now we'll discuss spatial reference frames. \n",
    "\n",
    "Over the course of fMRI preprocessing, the functional data is usually spatially transformed into another reference space. This gives us a range of analysis options presented in the table below:\n",
    "\n",
    "| Space  | Native | Standardized |\n",
    "|--------|--------|--------------|\n",
    "| Volume | Native | MNI 152/302  |\n",
    "| Surface| Native | fsaverage    |\n",
    "\n",
    "The important dichotomies to note are *native* vs. *standardized* and *volume* vs. *surface*. The distinction between native and standardized is an important one. Native space analysis specifies that the data remains in alignment to actual topography of the participant's brain; in other words, the data reflects all of the idiosynchrasies of one particular human brain. This is in contrast to standardized space, where a participant's data has been realigned to a common atlas (typically MNI 302). In this latter case, the spatial arrangement of the data may no longer reflect accurately reflect the participant's anatomy (e.g. the voxels corresponding to visual cortex may no longer perfectly overlap with the participant's anatomical scan). The advatange is that the common space may be easier to interpret, work with, and combine with other data.\n",
    "\n",
    "The second distinction is between volume- and surface-based analysis. Volume-based analysis treats the brain as the data is collected: in three dimensions. In volumetric analysis, we are still dealing with voxels and *Euclidean* distance. Volume-based analysis is appropriate for the subcortex which has a homogenous 3d organization. In contrast, surface-based analysis treats the cortical surface as what it is: as two-dimensional sheets of tissue (e.g. gyri and sulci). In surface-based analysis, we consider geodesic distances. To note, there are standardized reference frames for the cortical surface too (e.g. *fsaverage*). \n",
    "\n",
    "There are various advantages and disadvantages to analyzing data in each of these spaces (e.g. fewer vs. more transformations, interpretability of structures, biological accuracy), but for present purposes any is ok for this class insofar that we keep track of what space we are in. "
   ]
  },
  {
   "cell_type": "markdown",
   "metadata": {},
   "source": [
    "## Part 3: Working with Volume (3d) Data\n",
    "\n",
    "### Reading / Writing Volume Data\n",
    "Reading in MRI data is easy with `nibabel`. For a more complete tutorial, see [here](https://nipy.org/nibabel/gettingstarted.html)."
   ]
  },
  {
   "cell_type": "code",
   "execution_count": 2,
   "metadata": {},
   "outputs": [],
   "source": [
    "import nibabel as nib\n",
    "\n",
    "## Load anatomical data.\n",
    "obj = nib.load('T1.nii.gz')"
   ]
  },
  {
   "cell_type": "markdown",
   "metadata": {},
   "source": [
    "Nibabel objects store many useful pieces of information, including the data, the affine transformation, and the header."
   ]
  },
  {
   "cell_type": "code",
   "execution_count": 3,
   "metadata": {},
   "outputs": [
    {
     "name": "stdout",
     "output_type": "stream",
     "text": [
      "['sizeof_hdr', 'data_type', 'db_name', 'extents', 'session_error', 'regular', 'dim_info', 'dim', 'intent_p1', 'intent_p2']\n"
     ]
    }
   ],
   "source": [
    "## Show header.\n",
    "print(obj.header.keys()[:10])"
   ]
  },
  {
   "cell_type": "markdown",
   "metadata": {},
   "source": [
    "Extracting data is similarly easy."
   ]
  },
  {
   "cell_type": "code",
   "execution_count": 4,
   "metadata": {},
   "outputs": [
    {
     "name": "stdout",
     "output_type": "stream",
     "text": [
      "(76, 76, 93)\n"
     ]
    },
    {
     "data": {
      "image/png": "[encoded data removed]",
      "text/plain": [
       "<Figure size 432x288 with 1 Axes>"
      ]
     },
     "metadata": {},
     "output_type": "display_data"
    }
   ],
   "source": [
    "## Extract data.\n",
    "data = obj.get_data()\n",
    "print(data.shape)\n",
    "\n",
    "## Visualize one slide.\n",
    "sns.heatmap(data[50], cmap='binary_r', square=True, cbar=False, \n",
    "            xticklabels=[], yticklabels=[]);"
   ]
  },
  {
   "cell_type": "markdown",
   "metadata": {},
   "source": [
    "Saving data is also easy. Whenever we save data, we must also store its associated affine transformation (otherwise we will not know how to interpret its spatial reference frame)."
   ]
  },
  {
   "cell_type": "code",
   "execution_count": 5,
   "metadata": {},
   "outputs": [],
   "source": [
    "## Store data as Nifti image.\n",
    "nifti = nib.Nifti1Image(data, obj.affine)\n",
    "\n",
    "## Save data.\n",
    "# nib.save(nifti, 'example.nii.gz')"
   ]
  },
  {
   "cell_type": "markdown",
   "metadata": {},
   "source": [
    "### Masking Volume Data\n",
    "\n",
    "Because MRI data are just NumPy arrays, masking data is simply an indexing problem. Below, we demonstrate masking with the brainmask and with an anatomical atlas.\n",
    "\n",
    "#### Brainmask"
   ]
  },
  {
   "cell_type": "code",
   "execution_count": 6,
   "metadata": {},
   "outputs": [
    {
     "name": "stdout",
     "output_type": "stream",
     "text": [
      "(76, 76, 93)\n"
     ]
    },
    {
     "data": {
      "image/png": "[encoded data removed]",
      "text/plain": [
       "<Figure size 432x288 with 1 Axes>"
      ]
     },
     "metadata": {},
     "output_type": "display_data"
    }
   ],
   "source": [
    "## Load brainmask.\n",
    "mask = nib.load('brainmask.nii.gz').get_data()\n",
    "print(mask.shape)\n",
    "\n",
    "## Make copy of data.\n",
    "copy = data.copy()\n",
    "\n",
    "## Mask out nonbrain.\n",
    "copy[mask == 0] = 0\n",
    "\n",
    "## Visualize one slide.\n",
    "sns.heatmap(copy[50], cmap='binary_r', square=True, cbar=False, \n",
    "            xticklabels=[], yticklabels=[]);"
   ]
  },
  {
   "cell_type": "markdown",
   "metadata": {},
   "source": [
    "#### Freesurfer aseg\n",
    "The labels corresponding to each ROI were found using the Freesurfer [color lookup table](https://surfer.nmr.mgh.harvard.edu/fswiki/FsTutorial/AnatomicalROI/FreeSurferColorLUT)."
   ]
  },
  {
   "cell_type": "code",
   "execution_count": 7,
   "metadata": {},
   "outputs": [
    {
     "name": "stdout",
     "output_type": "stream",
     "text": [
      "(76, 76, 93)\n"
     ]
    },
    {
     "data": {
      "image/png": "[encoded data removed]",
      "text/plain": [
       "<Figure size 432x288 with 1 Axes>"
      ]
     },
     "metadata": {},
     "output_type": "display_data"
    }
   ],
   "source": [
    "## Load brainmask.\n",
    "aseg = nib.load('aseg.nii.gz').get_data()\n",
    "print(aseg.shape)\n",
    "\n",
    "## Make copy of data.\n",
    "copy = data.copy()\n",
    "\n",
    "## Mask out all but left hemisphere white matter.\n",
    "copy[aseg != 2] = 0.\n",
    "\n",
    "## Visualize one slide.\n",
    "sns.heatmap(copy[50], cmap='binary_r',square=True, cbar=False, \n",
    "            xticklabels=[], yticklabels=[]);"
   ]
  },
  {
   "cell_type": "markdown",
   "metadata": {},
   "source": [
    "## Part 4: Working with Surface (2d) Data\n",
    "\n",
    "### Reading / Writing Surface Data\n",
    "Reading in MRI data is easy with `nibabel`. For a more complete tutorial, see [here](https://nipy.org/nibabel/gettingstarted.html)."
   ]
  },
  {
   "cell_type": "code",
   "execution_count": 8,
   "metadata": {},
   "outputs": [
    {
     "name": "stdout",
     "output_type": "stream",
     "text": [
      "(10242, 1, 1, 1)\n"
     ]
    }
   ],
   "source": [
    "## Load surface data.\n",
    "obj = nib.load('surface-lh.nii.gz')\n",
    "\n",
    "## Extract data.\n",
    "data = obj.get_data()\n",
    "print(data.shape)\n",
    "\n",
    "## Store data as Nifti image.\n",
    "nifti = nib.Nifti1Image(data, obj.affine)\n",
    "\n",
    "## Save data.\n",
    "# nib.save(nifti, 'example.nii.gz')"
   ]
  },
  {
   "cell_type": "markdown",
   "metadata": {},
   "source": [
    "## Masking Surface Data\n",
    "\n",
    "Masks in surface space are known as labels. Labels are simply a collection of vertices associated with a particular region of interest. We will use `mne` to read in an exampe label."
   ]
  },
  {
   "cell_type": "code",
   "execution_count": 9,
   "metadata": {},
   "outputs": [
    {
     "name": "stdout",
     "output_type": "stream",
     "text": [
      "543\n",
      "(543, 1, 1, 1)\n"
     ]
    }
   ],
   "source": [
    "from mne import read_label\n",
    "\n",
    "## Load V1 label.\n",
    "label = read_label('V1-lh.label')\n",
    "print(label.vertices.size)\n",
    "\n",
    "## Limit data to V1.\n",
    "v1 = data[label.vertices]\n",
    "print(v1.shape)"
   ]
  }
 ],
 "metadata": {
  "kernelspec": {
   "display_name": "Python 3",
   "language": "python",
   "name": "python3"
  },
  "language_info": {
   "codemirror_mode": {
    "name": "ipython",
    "version": 3
   },
   "file_extension": ".py",
   "mimetype": "text/x-python",
   "name": "python",
   "nbconvert_exporter": "python",
   "pygments_lexer": "ipython3",
   "version": "3.7.1"
  }
 },
 "nbformat": 4,
 "nbformat_minor": 2
}
