{
 "cells": [
  {
   "cell_type": "markdown",
   "metadata": {},
   "source": [
    "# fMRI-01 Exercises"
   ]
  },
  {
   "cell_type": "code",
   "execution_count": 1,
   "metadata": {},
   "outputs": [],
   "source": [
    "import numpy as np\n",
    "import matplotlib.pyplot as plt\n",
    "import seaborn as sns\n",
    "sns.set_style('white')\n",
    "sns.set_context('notebook', font_scale=1.5)\n",
    "%matplotlib inline"
   ]
  },
  {
   "cell_type": "markdown",
   "metadata": {},
   "source": [
    "Today's demonstration will introduce programmatic implementations of the hemodynamic response function (HRF). We will cover the canonical double gamma model, as well as other variants introduced in the literature."
   ]
  },
  {
   "cell_type": "markdown",
   "metadata": {},
   "source": [
    "## Double Gamma HRF\n",
    "Much like the action potential, the canonical hemodynamic response has two distinct phases: a initial rising phase and a subsequent prolonged undershoot. In general, the rising phase peaks around 6s and the trough of the undershoot occurs around 16s. \n",
    "\n",
    "Traditionally, the shape of the HRF is modeled by the superposition of two **[gamma distributions](https://en.wikipedia.org/wiki/Gamma_distribution)**. The gamma distribution can be defined according to several different parameterizations. Here, we will define gamma according to its mode and variance. The mode defines the center of the probability mass of the distribution, whereas the variance describes the dispersion around the mean. "
   ]
  },
  {
   "cell_type": "code",
   "execution_count": null,
   "metadata": {},
   "outputs": [],
   "source": []
  },
  {
   "cell_type": "markdown",
   "metadata": {},
   "source": [
    "An important point is the difference in shape between the gamma and normal distributions. Whereas the normal distribution has symmetric shape (i.e. the distributions of its left and right tails are the same), the gamma distribution is right-tailed (i.e. has greater probability mass for larger values). This asymmetry nicely captures what is typically observed of the HRF.\n",
    "\n",
    "To model the HRF, we will need two gamma distributions: one to capture the rising phase and a second to capture the undershoot. To give it its characteristic shape, we will (1) assume the second is smaller in amplitude than the first, and (2) subtract the second from the first."
   ]
  },
  {
   "cell_type": "code",
   "execution_count": null,
   "metadata": {},
   "outputs": [],
   "source": []
  },
  {
   "cell_type": "markdown",
   "metadata": {},
   "source": [
    "Now we have an HRF-like waveform. Early in programming fMRI software, a common set of parameters was settled upon. In this class, we will call this the canonical HRF or the **SPM HRF.** \n",
    "\n",
    "The SPM HRF has been conveniently programmed for you already. Importantly, the `spm_hrf` function requires the **repetition time (TR)** as an input. The TR is the sampling frequency of an fMRI experiment, or how often we acquire one complete image of the brain. The TR defines the smoothness of the idealized HRF."
   ]
  },
  {
   "cell_type": "code",
   "execution_count": null,
   "metadata": {},
   "outputs": [],
   "source": []
  },
  {
   "cell_type": "markdown",
   "metadata": {},
   "source": [
    "## Alternate HRFs\n",
    "The (double gamma) SPM HRF is the default HRF in neuroimaging studies; it is the function employed in all of the major fMRI software packages. This is great for reproducibility and reducing researcher degrees of freedom, but it should be noted that this is a major assumption of most fMRI studies and much ink has been spilled over when this assumption is valid and how to improve HRF modeling in a principled manner. (This will be discussed more in the coming weeks.)\n",
    "\n",
    "For today, we can explore the shape of a few other HRFs that have been discussed in the literature. This includes double-normal HRF and the inverse-logistic HRF."
   ]
  },
  {
   "cell_type": "code",
   "execution_count": null,
   "metadata": {},
   "outputs": [],
   "source": []
  },
  {
   "cell_type": "markdown",
   "metadata": {},
   "source": [
    "One important point to add is that it is exceedingly rare for fMRI software packages to model the initial dip of the HRF."
   ]
  }
 ],
 "metadata": {
  "kernelspec": {
   "display_name": "Python 3",
   "language": "python",
   "name": "python3"
  },
  "language_info": {
   "codemirror_mode": {
    "name": "ipython",
    "version": 3
   },
   "file_extension": ".py",
   "mimetype": "text/x-python",
   "name": "python",
   "nbconvert_exporter": "python",
   "pygments_lexer": "ipython3",
   "version": "3.7.1"
  }
 },
 "nbformat": 4,
 "nbformat_minor": 2
}
