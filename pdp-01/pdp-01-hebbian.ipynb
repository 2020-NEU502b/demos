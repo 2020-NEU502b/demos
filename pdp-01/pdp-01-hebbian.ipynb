{
 "cells": [
  {
   "cell_type": "code",
   "execution_count": 1,
   "metadata": {},
   "outputs": [],
   "source": [
    "import numpy as np\n",
    "import matplotlib.pyplot as plt\n",
    "from tqdm import tqdm_notebook as tqdm\n",
    "import pandas as pd\n",
    "%matplotlib inline"
   ]
  },
  {
   "cell_type": "markdown",
   "metadata": {},
   "source": [
    "# Hebbian Learning\n",
    "\n",
    "In this notebook, we'll look at some examples and limitations of Hebbian learning via Oja's rule. Then we'll examine one extension of Hebbian learning called competitive learning ([Rumelhart and Zipser 1985](https://onlinelibrary.wiley.com/doi/abs/10.1207/s15516709cog0901_5)) where network units only change their weights when they have the largest activation to a stimulus.\n",
    "\n",
    "We'll study simple networks with an input layer $x$ of length $m$, hidden layer $h$ of length $n$ and weight matrix $W$ of size $n \\times m$ connecting the two. Throughout this notebook I try to use the convention that $i$ is an index into $x$ and $j$ is an index into $h$. The activation for the hidden unit $h_j$ is\n",
    "$$\n",
    "h_j = W_j x = \\sum_{i=1}^m W_{ji} x_i\n",
    "%h = Wx = \\left[ \\sum_{i=1}^m W_{ji} x_i \\right]_{j=1}^n\n",
    "$$\n",
    "\n",
    "A standard rule for the change in weights in Hebbian learning is $\\Delta W = h x'$ or $\\Delta W_{ji} = h_j x_i$. However, since this results in unbounded growth of weights, we use Oja's rule which bounds the growth of weights to $\\frac{1}{\\alpha}$.\n",
    "\n",
    "$$\n",
    "\\Delta W_{ji} = h_j x_i - \\alpha h_j^2 W_{ji}\n",
    "$$\n",
    "\n",
    "As you might recall from your NEU502A homework earlier in the semester, this kind of linear Hebbian learning finds the first principal component of the dataset (for a wonderful & rigorous exposition, see Bruno Olshausen's notes [here](https://redwood.berkeley.edu/wp-content/uploads/2018/08/handout-hebb-PCA.pdf)).\n",
    "\n",
    "Here's the code we'll run through this notebook. We perform Hebbian learning some number of times, updating our weight matrix each time to the average $\\Delta W$ over all the samples in our dataset."
   ]
  },
  {
   "cell_type": "code",
   "execution_count": 2,
   "metadata": {},
   "outputs": [],
   "source": [
    "def hebbian_learning(\n",
    "    samples, num_output,\n",
    "    *,\n",
    "    num_epochs=100,\n",
    "    competitive=False,\n",
    "    seed=None,\n",
    "    alpha=1,\n",
    "):\n",
    "    # Random seeds are good things!\n",
    "    if seed:\n",
    "        np.random.seed(seed)\n",
    "\n",
    "    num_features, num_samples = samples.shape\n",
    "\n",
    "    w = np.random.randn(num_features, num_output) * 1e-4\n",
    "\n",
    "    for _ in range(num_epochs):\n",
    "        dw = np.zeros((num_features, num_output))\n",
    "        win_counts = np.zeros(num_output)\n",
    "\n",
    "        for idx in range(num_samples):\n",
    "            x = samples[:, idx]\n",
    "\n",
    "            # Compute activation of hidden units\n",
    "            h = x@w\n",
    "\n",
    "            # Compute the change in w for this sample via Oja's rule\n",
    "            dw_sample = h * x[:, None] - alpha * h ** 2 * w\n",
    "\n",
    "            if competitive:\n",
    "                # Only update for the winner\n",
    "                updates = [np.argmax(h)]\n",
    "            else:\n",
    "                # Update for all nodes\n",
    "                updates = range(num_output)\n",
    "\n",
    "            # Add in this update\n",
    "            for node in updates:\n",
    "                dw[:, node] += dw_sample[:, node]\n",
    "                win_counts[node] += 1\n",
    "\n",
    "        # Take the average of the changes to w\n",
    "        for node in range(num_output):\n",
    "            # Make sure the node won at least once, otherwise this becomes NaN\n",
    "            if win_counts[node] != 0:\n",
    "                dw[:, node] /= win_counts[node]\n",
    "\n",
    "        # Add the change to w\n",
    "        w += dw\n",
    "\n",
    "    return w"
   ]
  },
  {
   "cell_type": "markdown",
   "metadata": {},
   "source": [
    "## A simple dataset\n",
    "\n",
    "We'll first examine a simple and artificial dataset consisting of colored shapes. We assume two possible colors (orange or blue) and two possible shapes (hearts or diamonds) for a total fo four possible inputs: 🧡💙🔶🔷. We'll encode these inputs with one-hot encoding where every place in the input vector represents either a color or shape, coded with a 1 if that attribute is present in the input. If we let the places in the input vector represent `[orange, blue, heart, diamond]`, then a 💙 can be represented by `0 1 1 0`. Here are the codes for the other inputs:\n",
    "\n",
    "|input|code|\n",
    "|---|---|\n",
    "|🧡|1 0 1 0|\n",
    "|💙|0 1 1 0|\n",
    "|🔶|1 0 0 1|\n",
    "|🔷|0 1 0 1|\n",
    "\n",
    "If you give a hebbian network only 🧡 and 🔷, what do you think it's hidden unit will become most responsive to? We'll explore this a little. We code the inputs as above."
   ]
  },
  {
   "cell_type": "code",
   "execution_count": 3,
   "metadata": {},
   "outputs": [
    {
     "data": {
      "text/html": [
       "<div>\n",
       "<style scoped>\n",
       "    .dataframe tbody tr th:only-of-type {\n",
       "        vertical-align: middle;\n",
       "    }\n",
       "\n",
       "    .dataframe tbody tr th {\n",
       "        vertical-align: top;\n",
       "    }\n",
       "\n",
       "    .dataframe thead th {\n",
       "        text-align: right;\n",
       "    }\n",
       "</style>\n",
       "<table border=\"1\" class=\"dataframe\">\n",
       "  <thead>\n",
       "    <tr style=\"text-align: right;\">\n",
       "      <th></th>\n",
       "      <th>Input</th>\n",
       "      <th>Activation</th>\n",
       "    </tr>\n",
       "  </thead>\n",
       "  <tbody>\n",
       "    <tr>\n",
       "      <th>0</th>\n",
       "      <td>[0.5, 0.0, 0.5, 0.0]</td>\n",
       "      <td>[-0.6006713857454204]</td>\n",
       "    </tr>\n",
       "    <tr>\n",
       "      <th>1</th>\n",
       "      <td>[0.0, 0.5, 0.0, 0.5]</td>\n",
       "      <td>[0.3730869688781374]</td>\n",
       "    </tr>\n",
       "  </tbody>\n",
       "</table>\n",
       "</div>"
      ],
      "text/plain": [
       "                  Input             Activation\n",
       "0  [0.5, 0.0, 0.5, 0.0]  [-0.6006713857454204]\n",
       "1  [0.0, 0.5, 0.0, 0.5]   [0.3730869688781374]"
      ]
     },
     "execution_count": 3,
     "metadata": {},
     "output_type": "execute_result"
    }
   ],
   "source": [
    "data = np.array([\n",
    "    [0.5, 0, 0.5, 0],\n",
    "    [0, 0.5, 0, 0.5],\n",
    "]).astype(np.float).T\n",
    "\n",
    "weights = hebbian_learning(data, num_output=1, seed=40)\n",
    "\n",
    "pd.DataFrame([\n",
    "    (data[:, i], data[:, i] @ weights)\n",
    "    for i in range(data.shape[1])\n",
    "], columns=['Input', 'Activation'])"
   ]
  },
  {
   "cell_type": "markdown",
   "metadata": {},
   "source": [
    "The network nicely differentiates the above inputs with different levels of activity for each. We might wonder next what happens if we provide partial input. The training inputs above and these partial inputs all sum to 1 to make the final output comparable."
   ]
  },
  {
   "cell_type": "code",
   "execution_count": 4,
   "metadata": {},
   "outputs": [
    {
     "data": {
      "text/html": [
       "<div>\n",
       "<style scoped>\n",
       "    .dataframe tbody tr th:only-of-type {\n",
       "        vertical-align: middle;\n",
       "    }\n",
       "\n",
       "    .dataframe tbody tr th {\n",
       "        vertical-align: top;\n",
       "    }\n",
       "\n",
       "    .dataframe thead th {\n",
       "        text-align: right;\n",
       "    }\n",
       "</style>\n",
       "<table border=\"1\" class=\"dataframe\">\n",
       "  <thead>\n",
       "    <tr style=\"text-align: right;\">\n",
       "      <th></th>\n",
       "      <th>Input</th>\n",
       "      <th>Activation</th>\n",
       "    </tr>\n",
       "  </thead>\n",
       "  <tbody>\n",
       "    <tr>\n",
       "      <th>0</th>\n",
       "      <td>[1.0, 0.0, 0.0, 0.0]</td>\n",
       "      <td>[-0.6006713857452561]</td>\n",
       "    </tr>\n",
       "    <tr>\n",
       "      <th>1</th>\n",
       "      <td>[0.0, 1.0, 0.0, 0.0]</td>\n",
       "      <td>[0.3730869688758891]</td>\n",
       "    </tr>\n",
       "    <tr>\n",
       "      <th>2</th>\n",
       "      <td>[0.0, 0.0, 1.0, 0.0]</td>\n",
       "      <td>[-0.6006713857455847]</td>\n",
       "    </tr>\n",
       "    <tr>\n",
       "      <th>3</th>\n",
       "      <td>[0.0, 0.0, 0.0, 1.0]</td>\n",
       "      <td>[0.3730869688803857]</td>\n",
       "    </tr>\n",
       "    <tr>\n",
       "      <th>4</th>\n",
       "      <td>[0.0, 0.5, 0.5, 0.0]</td>\n",
       "      <td>[-0.11379220843484777]</td>\n",
       "    </tr>\n",
       "    <tr>\n",
       "      <th>5</th>\n",
       "      <td>[0.3333333333333333, 0.3333333333333333, 0.333...</td>\n",
       "      <td>[-0.2760852675383172]</td>\n",
       "    </tr>\n",
       "    <tr>\n",
       "      <th>6</th>\n",
       "      <td>[0.25, 0.25, 0.25, 0.25]</td>\n",
       "      <td>[-0.11379220843364149]</td>\n",
       "    </tr>\n",
       "  </tbody>\n",
       "</table>\n",
       "</div>"
      ],
      "text/plain": [
       "                                               Input              Activation\n",
       "0                               [1.0, 0.0, 0.0, 0.0]   [-0.6006713857452561]\n",
       "1                               [0.0, 1.0, 0.0, 0.0]    [0.3730869688758891]\n",
       "2                               [0.0, 0.0, 1.0, 0.0]   [-0.6006713857455847]\n",
       "3                               [0.0, 0.0, 0.0, 1.0]    [0.3730869688803857]\n",
       "4                               [0.0, 0.5, 0.5, 0.0]  [-0.11379220843484777]\n",
       "5  [0.3333333333333333, 0.3333333333333333, 0.333...   [-0.2760852675383172]\n",
       "6                           [0.25, 0.25, 0.25, 0.25]  [-0.11379220843364149]"
      ]
     },
     "execution_count": 4,
     "metadata": {},
     "output_type": "execute_result"
    }
   ],
   "source": [
    "data = np.array([\n",
    "    [1, 0, 0, 0], # Orange\n",
    "    [0, 1, 0, 0], # Blue\n",
    "    [0, 0, 1, 0], # Heart\n",
    "    [0, 0, 0, 1], # Diamond\n",
    "    [0, 0.5, 0.5, 0], # Blue Heart\n",
    "    [1/3, 1/3, 1/3, 0], # Orange Blue Heart\n",
    "    [1/4, 1/4, 1/4, 1/4], # Orange Blue Heart Diamond??\n",
    "]).T\n",
    "\n",
    "pd.DataFrame([\n",
    "    (data[:, i], data[:, i] @ weights)\n",
    "    for i in range(data.shape[1])\n",
    "], columns=['Input', 'Activation'])"
   ]
  },
  {
   "cell_type": "markdown",
   "metadata": {},
   "source": [
    "The above suggests that the network is able to find the correlation in inputs we provide. It finds the first principal component of our dataset, with 🧡 on one end and 🔷 on the other. We can try to stump Hebbian learning by giving it all possible inputs to learn:"
   ]
  },
  {
   "cell_type": "code",
   "execution_count": null,
   "metadata": {},
   "outputs": [
    {
     "data": {
      "text/html": [
       "<div>\n",
       "<style scoped>\n",
       "    .dataframe tbody tr th:only-of-type {\n",
       "        vertical-align: middle;\n",
       "    }\n",
       "\n",
       "    .dataframe tbody tr th {\n",
       "        vertical-align: top;\n",
       "    }\n",
       "\n",
       "    .dataframe thead th {\n",
       "        text-align: right;\n",
       "    }\n",
       "</style>\n",
       "<table border=\"1\" class=\"dataframe\">\n",
       "  <thead>\n",
       "    <tr style=\"text-align: right;\">\n",
       "      <th></th>\n",
       "      <th>Input</th>\n",
       "      <th>Activation</th>\n",
       "    </tr>\n",
       "  </thead>\n",
       "  <tbody>\n",
       "    <tr>\n",
       "      <th>0</th>\n",
       "      <td>[0.5, 0.0, 0.5, 0.0]</td>\n",
       "      <td>[0.49999976415276504]</td>\n",
       "    </tr>\n",
       "    <tr>\n",
       "      <th>1</th>\n",
       "      <td>[0.5, 0.0, 0.0, 0.5]</td>\n",
       "      <td>[0.5000014819303862]</td>\n",
       "    </tr>\n",
       "    <tr>\n",
       "      <th>2</th>\n",
       "      <td>[0.0, 0.5, 0.5, 0.0]</td>\n",
       "      <td>[0.4999985180653753]</td>\n",
       "    </tr>\n",
       "    <tr>\n",
       "      <th>3</th>\n",
       "      <td>[0.0, 0.5, 0.0, 0.5]</td>\n",
       "      <td>[0.5000002358429965]</td>\n",
       "    </tr>\n",
       "  </tbody>\n",
       "</table>\n",
       "</div>"
      ],
      "text/plain": [
       "                  Input             Activation\n",
       "0  [0.5, 0.0, 0.5, 0.0]  [0.49999976415276504]\n",
       "1  [0.5, 0.0, 0.0, 0.5]   [0.5000014819303862]\n",
       "2  [0.0, 0.5, 0.5, 0.0]   [0.4999985180653753]\n",
       "3  [0.0, 0.5, 0.0, 0.5]   [0.5000002358429965]"
      ]
     },
     "execution_count": 5,
     "metadata": {},
     "output_type": "execute_result"
    }
   ],
   "source": [
    "data = np.array([\n",
    "    [1/2, 0, 1/2, 0],\n",
    "    [1/2, 0, 0, 1/2],\n",
    "    [0, 1/2, 1/2, 0],\n",
    "    [0, 1/2, 0, 1/2],\n",
    "]).astype(np.float).T\n",
    "\n",
    "weights = hebbian_learning(data, num_output=1, seed=42)\n",
    "\n",
    "pd.DataFrame([\n",
    "    (data[:, i], data[:, i] @ weights)\n",
    "    for i in range(data.shape[1])\n",
    "], columns=['Input', 'Activation'])"
   ]
  },
  {
   "cell_type": "markdown",
   "metadata": {},
   "source": [
    "## Competitive Hebbian learning\n",
    "\n",
    "To extend linear Hebbian learning beyond simply learning principal components, we add in competition among the hidden units, per [Rumelhart and Zipser 1985](https://onlinelibrary.wiley.com/doi/abs/10.1207/s15516709cog0901_5). The hidden unit with the greatest activation ($\\arg \\max_j h_j$) for a stimulus learns from it, while others do not. We formalize this in the following learning rule:\n",
    "\n",
    "$$\n",
    "\\Delta W_{ji} = \n",
    "\\begin{cases}\n",
    "h_j x_i - \\alpha h_j^2 W_{ji} & \\text{if } j = \\arg\\max_{j'} h_{j'} \\\\\n",
    "0 & \\text{otherwise}\n",
    "\\end{cases}\n",
    "$$\n",
    "\n",
    "The above code already implements this under a flag. Calling `hebbian_learning(data, ..., competitive=True)` will run Hebbian learning via Oja's rule with winner-take-all learning as described above.\n",
    "\n",
    "\n",
    "You can think of this learning as implementing a kind of clustering algorithm, tuning each hidden node to its most related inputs. Rumelhart and Zipser elaborate on this in Figure 3 of *Feature Discovery by Competitive Learning*. With a normalized dataset and normalized weights, each datapoint and node weight can be conceptualized as living on a sphere. The node with the most activity for a datapoint is the one closest to it. This figure schematizes this point, from *Introduction To The Theory Of Neural Computation* by Hertz, Krogh, Palmer.\n",
    "\n",
    "<img src=\"resources/competitive.png\" style=\"width: 600px;\"/>\n",
    "\n",
    "A more biologically plausible formulation of this learning rule might implement the dynamics of the winner-take-all process by having the activity of each hidden unit inhibit the others."
   ]
  },
  {
   "cell_type": "markdown",
   "metadata": {},
   "source": [
    "To look at the results of competitive learning, we'll use a small dataset from [Bruno Olshausen's competitive learning assignment](http://www.rctn.org/bruno/npb163/labs/wta-kohonen-hopnet.html). In the below plots, color denotes which hidden unit is most active for that input. We first use hebbian learning without competition, finding the units only extract the principal component:"
   ]
  },
  {
   "cell_type": "code",
   "execution_count": null,
   "metadata": {},
   "outputs": [],
   "source": [
    "import scipy.io\n",
    "data = scipy.io.loadmat('resources/olshausen-lab7-data2d.mat')['D2']"
   ]
  },
  {
   "cell_type": "code",
   "execution_count": null,
   "metadata": {},
   "outputs": [
    {
     "data": {
      "image/png": "[encoded data removed]",
      "text/plain": [
       "<Figure size 432x288 with 1 Axes>"
      ]
     },
     "metadata": {
      "needs_background": "light"
     },
     "output_type": "display_data"
    }
   ],
   "source": [
    "def plot_data_and_weights(w):\n",
    "    cm = plt.get_cmap('tab10')\n",
    "    group = np.argmax(w.T @ data, axis=0)\n",
    "    plt.scatter(data[0], data[1], c=[cm.colors[g] for g in group])\n",
    "    for pt in w.T:\n",
    "        plt.plot(pt[0], pt[1], 'ko');\n",
    "\n",
    "def norm(data):\n",
    "    return data / np.linalg.norm(data, axis=0)[None, :]\n",
    "\n",
    "w = hebbian_learning(norm(data), num_epochs=100, num_output=2, seed=60)\n",
    "plot_data_and_weights(w)"
   ]
  },
  {
   "cell_type": "markdown",
   "metadata": {},
   "source": [
    "Competitive learning with 2 units also only identifies the PC:"
   ]
  },
  {
   "cell_type": "code",
   "execution_count": null,
   "metadata": {},
   "outputs": [
    {
     "data": {
      "image/png": "[encoded data removed]",
      "text/plain": [
       "<Figure size 432x288 with 1 Axes>"
      ]
     },
     "metadata": {
      "needs_background": "light"
     },
     "output_type": "display_data"
    }
   ],
   "source": [
    "w = hebbian_learning(norm(data), num_epochs=100, num_output=2, seed=60, competitive=True)\n",
    "plot_data_and_weights(w)"
   ]
  },
  {
   "cell_type": "markdown",
   "metadata": {},
   "source": [
    "But competitive learning with 4 units can learn the dataset structure!"
   ]
  },
  {
   "cell_type": "code",
   "execution_count": null,
   "metadata": {
    "scrolled": true
   },
   "outputs": [
    {
     "data": {
      "image/png": "[encoded data removed]",
      "text/plain": [
       "<Figure size 432x288 with 1 Axes>"
      ]
     },
     "metadata": {
      "needs_background": "light"
     },
     "output_type": "display_data"
    }
   ],
   "source": [
    "w = hebbian_learning(norm(data), num_epochs=100, num_output=4, seed=60, competitive=True)\n",
    "plot_data_and_weights(w)"
   ]
  },
  {
   "cell_type": "markdown",
   "metadata": {},
   "source": [
    "We'll close this section with an aside. This type of dataset (basically a combination of two linear datasets) is canonically shown to motivate the use of ICA (Independent Components Analysis), which we used for blink detection/removal in EEG analysis. Below we show the best 2 PCs from a PCA and the best 2 from an ICA. PCA ensures orthogonal components, but that hinders extracting the correlated but different clusters below."
   ]
  },
  {
   "cell_type": "code",
   "execution_count": null,
   "metadata": {},
   "outputs": [
    {
     "data": {
      "image/png": "[encoded data removed]",
      "text/plain": [
       "<Figure size 432x288 with 1 Axes>"
      ]
     },
     "metadata": {
      "needs_background": "light"
     },
     "output_type": "display_data"
    }
   ],
   "source": [
    "import sklearn.decomposition\n",
    "\n",
    "f, ax = plt.subplots()\n",
    "\n",
    "ica = sklearn.decomposition.FastICA(n_components=2, random_state=60)\n",
    "ica.fit(data.T)\n",
    "points = ica.components_\n",
    "\n",
    "plt.plot(data[0], data[1], '.')\n",
    "for pt in 30*points.T:\n",
    "    plt.plot([-pt[0], pt[0]], [-pt[1], pt[1]], 'k-', label='ICA');\n",
    "\n",
    "pca = sklearn.decomposition.PCA(n_components=2, random_state=60)\n",
    "pca.fit(data.T)\n",
    "points = pca.components_\n",
    "\n",
    "for pt in 3*points.T:\n",
    "    plt.plot([-pt[0], pt[0]], [-pt[1], pt[1]], 'r--', label='PCA');\n",
    "\n",
    "by_label = dict(zip(*ax.get_legend_handles_labels()[::-1]))\n",
    "plt.legend(by_label.values(), by_label.keys())\n",
    "plt.axis('equal');"
   ]
  },
  {
   "cell_type": "markdown",
   "metadata": {},
   "source": [
    "Questions:\n",
    "- (From Bruno) Why are four neurons for competitive learning necessary to learn this dataset rather than just two? How would you change the competition and learning rule so that just two units are necessary?\n",
    "- Hidden units only learn when they are most active for an input. Can you describe situations where hidden units might not learn and how you can prevent that?"
   ]
  },
  {
   "cell_type": "markdown",
   "metadata": {},
   "source": [
    "## Demos\n",
    "\n",
    "We'll now examine this competitive Hebbian network with a variety of datasets.\n",
    "\n",
    "### Place cells\n",
    "\n",
    "Following an example in Rumelhart and Zipser 1985, we'll see if our competitive Hebbian network can learn place cells. As input, we'll give the network a dataset of all adjacent places in a grid. Here's our grid with 2 adjacent cells (in white) in the lower left. We'll flatten the below matrix into a single vector as input to our network."
   ]
  },
  {
   "cell_type": "code",
   "execution_count": null,
   "metadata": {},
   "outputs": [
    {
     "data": {
      "image/png": "[encoded data removed]",
      "text/plain": [
       "<Figure size 432x288 with 1 Axes>"
      ]
     },
     "metadata": {
      "needs_background": "light"
     },
     "output_type": "display_data"
    }
   ],
   "source": [
    "grid_size = (8, 8)\n",
    "\n",
    "def plot_grid(grid, ax=None):\n",
    "    if ax is None:\n",
    "        _, ax = plt.subplots()\n",
    "    plt.sca(ax)\n",
    "    plt.pcolormesh(grid, edgecolors='w', cmap='gray')\n",
    "    ax.set_aspect('equal')\n",
    "\n",
    "arr = np.zeros(grid_size)\n",
    "arr[1, 1] = 1\n",
    "arr[1, 2] = 1\n",
    "plot_grid(arr)"
   ]
  },
  {
   "cell_type": "markdown",
   "metadata": {},
   "source": [
    "We'll make a dataset of adjacent cells on the grid."
   ]
  },
  {
   "cell_type": "code",
   "execution_count": null,
   "metadata": {},
   "outputs": [
    {
     "name": "stdout",
     "output_type": "stream",
     "text": [
      "(64, 224)\n"
     ]
    }
   ],
   "source": [
    "adjacent_cells = []\n",
    "# For all x, y coordinates...\n",
    "for x in range(grid_size[0]):\n",
    "    for y in range(grid_size[1]):\n",
    "        # For all changes in x and y (up, down, left, right)\n",
    "        for dx, dy in [(0, -1), (0, +1), (-1, 0), (+1, 0)]:\n",
    "            nx = x + dx\n",
    "            ny = y + dy\n",
    "            # Check to see if the resulting cell is in the grid\n",
    "            if 0 <= nx < grid_size[0] and 0 <= ny < grid_size[1]:\n",
    "                # If so, we can add this (x, y) and (nx, ny) as an input\n",
    "                arr = np.zeros(grid_size)\n",
    "                arr[x, y] = 1\n",
    "                arr[nx, ny] = 1\n",
    "                adjacent_cells.append(arr.flatten())\n",
    "\n",
    "adjacent_cells = np.array(adjacent_cells).T\n",
    "print(adjacent_cells.shape)"
   ]
  },
  {
   "cell_type": "markdown",
   "metadata": {},
   "source": [
    "We'll first look at what our non-competitive Hebbian learning looks like."
   ]
  },
  {
   "cell_type": "code",
   "execution_count": null,
   "metadata": {},
   "outputs": [
    {
     "data": {
      "image/png": "[encoded data removed]",
      "text/plain": [
       "<Figure size 432x216 with 2 Axes>"
      ]
     },
     "metadata": {
      "needs_background": "light"
     },
     "output_type": "display_data"
    }
   ],
   "source": [
    "w = hebbian_learning(adjacent_cells, 2, num_epochs=1000, seed=42)\n",
    "\n",
    "num_output = w.shape[1]\n",
    "f, axes = plt.subplots(1, num_output, figsize=(6, 3))\n",
    "\n",
    "for widx, ax in zip(range(num_output), axes.flat):\n",
    "    plot_grid(w[:, widx].reshape(grid_size), ax=ax)"
   ]
  },
  {
   "cell_type": "markdown",
   "metadata": {},
   "source": [
    "It finds what looks like a principal component, with the weight of one positive and the other negative. Now let's try competitive learning."
   ]
  },
  {
   "cell_type": "code",
   "execution_count": null,
   "metadata": {},
   "outputs": [],
   "source": [
    "w = hebbian_learning(adjacent_cells, 2, competitive=True, num_epochs=1000, seed=42)\n",
    "\n",
    "num_output = w.shape[1]\n",
    "f, axes = plt.subplots(1, num_output, figsize=(6, 3))\n",
    "\n",
    "for widx, ax in zip(range(num_output), axes.flat):\n",
    "    plot_grid(w[:, widx].reshape(grid_size), ax=ax)"
   ]
  },
  {
   "cell_type": "markdown",
   "metadata": {},
   "source": [
    "We find something that looks somewhat like 2 very broad place cells selecting for different regions of space! Increasing to 4 cells further subdivides space."
   ]
  },
  {
   "cell_type": "code",
   "execution_count": null,
   "metadata": {},
   "outputs": [],
   "source": [
    "w = hebbian_learning(adjacent_cells, 4, competitive=True, num_epochs=1000, seed=42)\n",
    "\n",
    "num_output = w.shape[1]\n",
    "f, axes = plt.subplots(1, num_output, figsize=(12, 5))\n",
    "\n",
    "for widx, ax in zip(range(num_output), axes.flat):\n",
    "    plot_grid(w[:, widx].reshape(grid_size), ax=ax)"
   ]
  },
  {
   "cell_type": "markdown",
   "metadata": {},
   "source": [
    "## Learning Jets & Sharks\n",
    "\n",
    "We'll now attempt to learn the Jets & Sharks dataset with a 2-unit competitive Hebbian network. Data comes from the [PDP Handbook](https://web.stanford.edu/group/pdplab/pdphandbook/handbookch3.html). This dataset lists individuals, their gang membership (Jets or Sharks), age, schooling, marital status, and occupation. We'll hope our network can extract some of the regularities among these individuals.\n",
    "\n",
    "We start by assembling our dataset:"
   ]
  },
  {
   "cell_type": "code",
   "execution_count": null,
   "metadata": {
    "scrolled": true
   },
   "outputs": [],
   "source": [
    "data = [['Art', 'Jets', \"40's\", 'J.H.', 'Sing.', 'Pusher'],\n",
    " ['Al', 'Jets', \"30's\", 'J.H.', 'Mar.', 'Burglar'],\n",
    " ['Sam', 'Jets', \"20's\", 'COL.', 'Sing.', 'Bookie'],\n",
    " ['Clyde', 'Jets', \"40's\", 'J.H.', 'Sing.', 'Bookie'],\n",
    " ['Mike', 'Jets', \"30's\", 'J.H.', 'Sing.', 'Bookie'],\n",
    " ['Jim', 'Jets', \"20's\", 'J.H.', 'Div.', 'Burglar'],\n",
    " ['Greg', 'Jets', \"20's\", 'H.S.', 'Mar.', 'Pusher'],\n",
    " ['John', 'Jets', \"20's\", 'J.H.', 'Mar.', 'Burglar'],\n",
    " ['Doug', 'Jets', \"30's\", 'H.S.', 'Sing.', 'Bookie'],\n",
    " ['Lance', 'Jets', \"20's\", 'J.H.', 'Mar.', 'Burglar'],\n",
    " ['George', 'Jets', \"20's\", 'J.H.', 'Div.', 'Burglar'],\n",
    " ['Pete', 'Jets', \"20's\", 'H.S.', 'Sing.', 'Bookie'],\n",
    " ['Fred', 'Jets', \"20's\", 'H.S.', 'Sing.', 'Pusher'],\n",
    " ['Gene', 'Jets', \"20's\", 'COL.', 'Sing.', 'Pusher'],\n",
    " ['Ralph', 'Jets', \"30's\", 'J.H.', 'Sing.', 'Pusher'],\n",
    "\n",
    " ['Phil', 'Sharks', \"30's\", 'COL.', 'Mar.', 'Pusher'],\n",
    " ['Ike', 'Sharks', \"30's\", 'J.H.', 'Sing.', 'Bookie'],\n",
    " ['Nick', 'Sharks', \"30's\", 'H.S.', 'Sing.', 'Pusher'],\n",
    " ['Don', 'Sharks', \"30's\", 'COL.', 'Mar.', 'Burglar'],\n",
    " ['Ned', 'Sharks', \"30's\", 'COL.', 'Mar.', 'Bookie'],\n",
    " ['Karl', 'Sharks', \"40's\", 'H.S.', 'Mar.', 'Bookie'],\n",
    " ['Ken', 'Sharks', \"20's\", 'H.S.', 'Sing.', 'Burglar'],\n",
    " ['Earl', 'Sharks', \"40's\", 'H.S.', 'Mar.', 'Burglar'],\n",
    " ['Rick', 'Sharks', \"30's\", 'H.S.', 'Div.', 'Burglar'],\n",
    " ['Ol', 'Sharks', \"30's\", 'COL.', 'Mar.', 'Pusher'],\n",
    " ['Neal', 'Sharks', \"30's\", 'H.S.', 'Sing.', 'Bookie'],\n",
    " ['Dave', 'Sharks', \"30's\", 'H.S.', 'Div.', 'Pusher']]\n",
    "\n",
    "print('number of members', len(data))\n",
    "\n",
    "# We are going to drop the name from the dataset...\n",
    "for idx in range(len(data)):\n",
    "    data[idx] = data[idx][1:]\n",
    "\n",
    "# Gathering names of features and list of all feature values for one-hot encoding later...\n",
    "feature_values = []\n",
    "allfeatures = []\n",
    "for featureidx in range(len(data[0])):\n",
    "    values = sorted(list(set([row[featureidx] for row in data])))\n",
    "    feature_values.append(values)\n",
    "    allfeatures += values\n",
    "feature_values"
   ]
  },
  {
   "cell_type": "markdown",
   "metadata": {},
   "source": [
    "We make a one-hot coding of the dataset:"
   ]
  },
  {
   "cell_type": "code",
   "execution_count": null,
   "metadata": {},
   "outputs": [],
   "source": [
    "def onehot(index, total):\n",
    "    arr = np.zeros(total)\n",
    "    arr[index] = 1\n",
    "    return arr\n",
    "assert (onehot(1, 3) == np.array([0, 1, 0])).all()\n",
    "\n",
    "def row_to_onehot(row):\n",
    "    x = []\n",
    "    for featureidx in range(len(row)):\n",
    "        # This handles partial queries...\n",
    "        if row[featureidx] is None:\n",
    "            x.append(np.zeros(len(feature_values[featureidx])))\n",
    "            continue\n",
    "        # This encodes values\n",
    "        idx = feature_values[featureidx].index(row[featureidx])\n",
    "        x.append(onehot(idx, len(feature_values[featureidx])))\n",
    "    return np.hstack(x)\n",
    "\n",
    "print(row_to_onehot(data[0]))\n",
    "print(row_to_onehot(['Jets', None, None, None, None]))\n",
    "\n",
    "X = np.array([row_to_onehot(row) for row in data]).T"
   ]
  },
  {
   "cell_type": "markdown",
   "metadata": {},
   "source": [
    "Now we do hebbian learning! Our two units extract some of the regularity in the datset: Jets are often in their 20s, Sharks in their 30s."
   ]
  },
  {
   "cell_type": "code",
   "execution_count": null,
   "metadata": {},
   "outputs": [],
   "source": [
    "w_jets_sharks = hebbian_learning(norm(X), num_output=2, competitive=True, seed=42)\n",
    "\n",
    "f, ax = plt.subplots()\n",
    "ls = plt.plot(w_jets_sharks, '-o')\n",
    "plt.legend(ls, ['Node 1', 'Node 2'])\n",
    "plt.xticks(range(len(allfeatures)), rotation=90, labels=allfeatures);\n",
    "plt.title('Competitive Hebbian Learning weights')"
   ]
  },
  {
   "cell_type": "markdown",
   "metadata": {},
   "source": [
    "Weights of units can be relatively well-explained by the correlations for each of the gangs."
   ]
  },
  {
   "cell_type": "code",
   "execution_count": null,
   "metadata": {},
   "outputs": [],
   "source": [
    "import seaborn as sns\n",
    "sns.heatmap(\n",
    "    np.corrcoef(X),\n",
    "    cmap='coolwarm', vmin=-1, vmax=+1,\n",
    "    xticklabels=allfeatures,\n",
    "    yticklabels=allfeatures,\n",
    ")\n",
    "plt.axis('equal')\n",
    "plt.title('Feature correlation matrix');"
   ]
  },
  {
   "cell_type": "markdown",
   "metadata": {},
   "source": [
    "We'll close with an attempt at pattern completion. Given a trained network and a query like \"30's\", we might expect the network to activate related nodes, like Sharks. To approximate the type of network used for this, we activate the network with a query $x$, then project that activity back through the weights to get $\\hat{x}$, a pattern-completed version of the query.\n",
    "$$\n",
    "\\hat{x} = W^{-1} h = W^{-1} W x\n",
    "$$\n",
    "\n",
    "This example shows that the pattern completion is sensitive to input statistics: 30's implies you're likely to be in the Sharks, unless you went to J.H., then you're likely in the Jets."
   ]
  },
  {
   "cell_type": "code",
   "execution_count": null,
   "metadata": {},
   "outputs": [],
   "source": [
    "def pattern_complete(query):\n",
    "    # we compute unit activations\n",
    "    h = query @ w_jets_sharks\n",
    "\n",
    "    # and then project back into feature space\n",
    "    #pattern_completion = w_jets_sharks @ h\n",
    "    pattern_completion = h @ np.linalg.pinv(w_jets_sharks)\n",
    "\n",
    "    active = [name for name, bit in zip(allfeatures, query) if bit]\n",
    "    plt.figure()\n",
    "    plt.title(f'Pattern completion of {active}')\n",
    "    plt.plot(pattern_completion)\n",
    "    plt.xticks(range(len(allfeatures)), rotation=90, labels=allfeatures);\n",
    "\n",
    "for row in data:\n",
    "    if row[1] == \"30's\":\n",
    "        print(row)\n",
    "pattern_complete(row_to_onehot([None, \"30's\", None, None, None]))\n",
    "pattern_complete(row_to_onehot([None, \"30's\", \"J.H.\", None, None]))"
   ]
  },
  {
   "cell_type": "code",
   "execution_count": null,
   "metadata": {},
   "outputs": [],
   "source": []
  }
 ],
 "metadata": {
  "kernelspec": {
   "display_name": "Python 3",
   "language": "python",
   "name": "python3"
  },
  "language_info": {
   "codemirror_mode": {
    "name": "ipython",
    "version": 3
   },
   "file_extension": ".py",
   "mimetype": "text/x-python",
   "name": "python",
   "nbconvert_exporter": "python",
   "pygments_lexer": "ipython3",
   "version": "3.6.4"
  }
 },
 "nbformat": 4,
 "nbformat_minor": 2
}
