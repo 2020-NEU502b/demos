{
 "cells": [
  {
   "cell_type": "markdown",
   "metadata": {},
   "source": [
    "# EEG-01 Exercises"
   ]
  },
  {
   "cell_type": "code",
   "execution_count": null,
   "metadata": {},
   "outputs": [],
   "source": [
    "import os\n",
    "import numpy as np\n",
    "import matplotlib.pyplot as plt\n",
    "import seaborn as sns\n",
    "sns.set_style('white')\n",
    "sns.set_context('notebook', font_scale=1.5)\n",
    "%matplotlib inline"
   ]
  },
  {
   "cell_type": "markdown",
   "metadata": {},
   "source": [
    "Today's demonstration will introduce loading and inspecting EEG data with `mne-python`. We will also perform two crucial steps in data preprocessing: filtering and eye-blink removal."
   ]
  },
  {
   "cell_type": "markdown",
   "metadata": {},
   "source": [
    "## Section 1: Load and inspect raw data\n",
    "Similar to fMRI, there are a great many file formats that EEG data come in. We will use the Elektra Neuromag (fif) file format, typically associated with MEG data, as that is the native data type to mne-python. For a complete list of data types readable by mne-python, see [*importing data into MNE*](https://martinos.org/mne/stable/manual/io.html)."
   ]
  },
  {
   "cell_type": "code",
   "execution_count": null,
   "metadata": {},
   "outputs": [],
   "source": [
    "from mne.io import read_raw_fif\n",
    "\n",
    "## Specify path to data.\n",
    "f = os.path.join('..','data','sub-01_task-audvis_raw.fif')\n",
    "\n",
    "## Load data.\n",
    "raw = read_raw_fif(f, preload=True, verbose=False)\n",
    "print(raw)"
   ]
  },
  {
   "cell_type": "markdown",
   "metadata": {},
   "source": [
    "### Inspecting metadata\n",
    "The `mne.io.Raw` class object contains is a very helpful data structure, containing the entire EEG recording and its corresponding metadata. The `.info` attribute allows us to easily inspect all of the metadata."
   ]
  },
  {
   "cell_type": "code",
   "execution_count": null,
   "metadata": {},
   "outputs": [],
   "source": [
    "raw.info"
   ]
  },
  {
   "cell_type": "markdown",
   "metadata": {},
   "source": [
    "### Visualizing raw data\n",
    "mne-python has a built-in, dynamic raw data visualizer. This tool is incredibly useful for quickly inspecting the raw data for artifacts and bad channels. \n",
    "\n",
    "---\n",
    "\n",
    "**Note:** The raw data visualizor requires the *matplotlib qt5* backend. This cannot be called in the same notebook as the *matplotlib inline* backend. For your convenience, code for inspecting raw data has been stored in **eeg-01-inspector.ipynb**. \n",
    "\n",
    "---\n",
    "\n",
    "An inspection of the data reveals one obviously bad channel: EEG 053. EEG 023 and 034 are not looking great either, but we will keep them for now. Inspection also revealed some bad patches of recording (e.g. ~125s). We can designate bad channels through `raw.info`."
   ]
  },
  {
   "cell_type": "code",
   "execution_count": null,
   "metadata": {},
   "outputs": [],
   "source": [
    "## Designate bad channels.\n",
    "raw.info['bads'] = ['EEG 053']"
   ]
  },
  {
   "cell_type": "markdown",
   "metadata": {},
   "source": [
    "### Channel layout\n",
    "If we want to get a sense of where the bad channels are relative to the participant's head, we can plot the \n",
    "channel layout."
   ]
  },
  {
   "cell_type": "code",
   "execution_count": null,
   "metadata": {},
   "outputs": [],
   "source": [
    "from mne.channels import find_layout\n",
    "from mne.viz import plot_layout\n",
    "\n",
    "## Locate senor layout.\n",
    "layout = find_layout(raw.info)\n",
    "\n",
    "## Plot.\n",
    "plot_layout(layout);"
   ]
  },
  {
   "cell_type": "markdown",
   "metadata": {},
   "source": [
    "## Section 2: Preprocessing"
   ]
  },
  {
   "cell_type": "markdown",
   "metadata": {},
   "source": [
    "### Filtering\n",
    "\n",
    "Filtering data can help remove high-frequency artifacts (e.g. EMG artifact) and low-frequency drifts, and notch filters at 50 Hz or 60 Hz help attenuate electrical line noise. Applying a high-pass filter at 0.1 Hz or 0.5 Hz to the continuous data is useful and recommended to minimize slow drifts. More conservative high-pass filters have the potential to [distort and bias EEG analysis](https://www.ncbi.nlm.nih.gov/pmc/articles/PMC4506207/)."
   ]
  },
  {
   "cell_type": "code",
   "execution_count": null,
   "metadata": {},
   "outputs": [],
   "source": [
    "from mne import pick_types\n",
    "\n",
    "## Define EEG channels.\n",
    "picks = pick_types(raw.info, meg=False, eeg=True, eog=False, stim=False)\n",
    "\n",
    "## Apply bandpass filter.\n",
    "raw = raw.filter(0.5, 40, picks=picks, method='fir', phase='zero')"
   ]
  },
  {
   "cell_type": "markdown",
   "metadata": {},
   "source": [
    "### Eyeblink Removal (Independent Components Analysis, ICA)\n",
    "\n",
    "There are many sources of artifact in EEG data, including head motion, muscle tension, recording drift, and channel pops. Perhaps the most common source of artifact is eyeblink. Oculomotor activity causes large deflections in the EEG recording (with decreasing magnitude as channels are further from the eyes). \n",
    "\n",
    "There are a number of methods for removing eyeblinks, including amplitude rejection, signal space projection (SSP), and independent components analysis (ICA). ICA finds directions in the feature space corresponding to projections with high non-Gaussianity. We thus obtain a decomposition into independent components, and the artifact’s contribution is typically localized in only a small number of components. These components have to be correctly identified and removed.\n",
    "\n",
    "More complete information about the theory behind ICA and its application with mne-python can be found [here](https://martinos.org/mne/stable/auto_tutorials/plot_artifacts_correction_ica.html). "
   ]
  },
  {
   "cell_type": "code",
   "execution_count": null,
   "metadata": {},
   "outputs": [],
   "source": [
    "from mne.preprocessing import ICA\n",
    "\n",
    "## Define parameters.\n",
    "n_components = 25            # if float, select n_components by explained variance of PCA\n",
    "reject = dict(eeg=200e-6)    # specified to prevent fitting to highly noisy data\n",
    "method = 'fastica'\n",
    "decim = 3 \n",
    "\n",
    "## Initialize ICA object.\n",
    "ica = ICA(n_components=n_components, method=method, random_state=47404)\n",
    "\n",
    "## Fit ICA to data.\n",
    "picks = pick_types(raw.info, meg=False, eeg=True, eog=False, stim=False)\n",
    "ica.fit(raw, picks=picks, decim=decim, reject=reject)\n",
    "print(ica)"
   ]
  },
  {
   "cell_type": "markdown",
   "metadata": {},
   "source": [
    "We can visualize the scalp topography of each component to identify artifactual-looking components."
   ]
  },
  {
   "cell_type": "code",
   "execution_count": null,
   "metadata": {},
   "outputs": [],
   "source": [
    "ica.plot_components();"
   ]
  },
  {
   "cell_type": "markdown",
   "metadata": {},
   "source": [
    "mne-python also has some nice functions for visually exploring features of each component. Unfortunately, because eyeblinks are often irregular in their onset, these metrics may not be particularly helpful."
   ]
  },
  {
   "cell_type": "code",
   "execution_count": null,
   "metadata": {},
   "outputs": [],
   "source": [
    "ica.plot_properties(raw, picks=0, psd_args={'fmax': 40.});"
   ]
  },
  {
   "cell_type": "markdown",
   "metadata": {},
   "source": [
    "There's a much more efficient way to detect artifactual components with mne-python. Instead, we will take snapshots of each instance of a blink and correlate these data with the ICA components in order to find those components most likely corresponding to eyeblinks.\n",
    "\n",
    "To identify eyeblinks in the data, we will use the `create_eog_epochs` function, which conveniently looks for large events in the EOG channel."
   ]
  },
  {
   "cell_type": "code",
   "execution_count": null,
   "metadata": {},
   "outputs": [],
   "source": [
    "from mne.preprocessing import create_eog_epochs\n",
    "\n",
    "## Identify eyeblink events.\n",
    "reject = dict(eeg=200e-6)\n",
    "picks = pick_types(raw.info, meg=False, eeg=True, eog=True, stim=False)\n",
    "eog_epochs = create_eog_epochs(raw, ch_name='EOG 061', picks=picks, reject=reject)\n",
    "\n",
    "## Compute average eyeblink and plot.\n",
    "eog_average = eog_epochs.average()\n",
    "plt.plot(eog_average.data.T);"
   ]
  },
  {
   "cell_type": "markdown",
   "metadata": {},
   "source": [
    "Next we detect EOG related components using correlation. Detection is based on Pearson correlation between the filtered data and the filtered EOG channel. Thresholding is based on adaptive z-scoring. The above threshold components will be masked and the z-score will be recomputed until no supra-threshold component remains."
   ]
  },
  {
   "cell_type": "code",
   "execution_count": null,
   "metadata": {},
   "outputs": [],
   "source": [
    "## Detect EOG components using correlation.\n",
    "eog_inds, scores = ica.find_bads_eog(eog_epochs)\n",
    "\n",
    "## Plot scores.\n",
    "ica.plot_scores(scores, exclude=eog_inds);"
   ]
  },
  {
   "cell_type": "markdown",
   "metadata": {},
   "source": [
    "We can also inspect the source timecourse within the time window of our EOG average."
   ]
  },
  {
   "cell_type": "code",
   "execution_count": null,
   "metadata": {},
   "outputs": [],
   "source": [
    "## Plot source reconstruction.\n",
    "ica.plot_sources(eog_average, exclude=eog_inds);"
   ]
  },
  {
   "cell_type": "markdown",
   "metadata": {},
   "source": [
    "We can take a look at the properties of that component, now using the data epoched with respect to EOG events. "
   ]
  },
  {
   "cell_type": "code",
   "execution_count": null,
   "metadata": {},
   "outputs": [],
   "source": [
    "ica.plot_properties(eog_epochs, picks=eog_inds, psd_args={'fmax': 40.}, image_args={'sigma': 1.});"
   ]
  },
  {
   "cell_type": "markdown",
   "metadata": {},
   "source": [
    "Now let’s see how we would modify our signals if we removed this component from the data."
   ]
  },
  {
   "cell_type": "code",
   "execution_count": null,
   "metadata": {},
   "outputs": [],
   "source": [
    "ica.plot_overlay(eog_average, exclude=eog_inds, show=False);"
   ]
  },
  {
   "cell_type": "markdown",
   "metadata": {},
   "source": [
    "To register this component as a bad one to be remove, use the `ica.exclude` attribute. This is a simple Python list."
   ]
  },
  {
   "cell_type": "code",
   "execution_count": null,
   "metadata": {},
   "outputs": [],
   "source": [
    "ica.exclude.extend(eog_inds)"
   ]
  },
  {
   "cell_type": "markdown",
   "metadata": {},
   "source": [
    "Note that nothing is yet removed from the raw data. To remove the effects of the rejected components, the apply method must be called. We apply the ICA transformation to a copy of the original raw data."
   ]
  },
  {
   "cell_type": "code",
   "execution_count": null,
   "metadata": {},
   "outputs": [],
   "source": [
    "## Copy raw data.\n",
    "raw_ica = raw.copy()\n",
    "\n",
    "## Apply ICA decomposition and transformation.\n",
    "ica.apply(raw_ica)\n",
    "\n",
    "## Save preprocessed data.\n",
    "fout = os.path.join('..','data','sub-01_task-audvis_preproc_raw.fif')\n",
    "raw_ica.save(fout, overwrite=True)"
   ]
  }
 ],
 "metadata": {
  "kernelspec": {
   "display_name": "Python 3",
   "language": "python",
   "name": "python3"
  },
  "language_info": {
   "codemirror_mode": {
    "name": "ipython",
    "version": 3
   },
   "file_extension": ".py",
   "mimetype": "text/x-python",
   "name": "python",
   "nbconvert_exporter": "python",
   "pygments_lexer": "ipython3",
   "version": "3.7.1"
  }
 },
 "nbformat": 4,
 "nbformat_minor": 2
}
